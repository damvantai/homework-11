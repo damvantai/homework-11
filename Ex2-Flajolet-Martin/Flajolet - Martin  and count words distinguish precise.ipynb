{
 "cells": [
  {
   "cell_type": "code",
   "execution_count": 1,
   "metadata": {},
   "outputs": [
    {
     "data": {
      "text/plain": [
       "'\\nThe hash functions used are:\\n1. CityHash\\n2. MurmurHash\\n3. SpookyHash\\n4. Java hashCode() method\\n'"
      ]
     },
     "execution_count": 1,
     "metadata": {},
     "output_type": "execute_result"
    }
   ],
   "source": [
    "\"\"\"\n",
    "The hash functions used are:\n",
    "1. CityHash\n",
    "2. MurmurHash\n",
    "3. SpookyHash\n",
    "4. Java hashCode() method\n",
    "\"\"\""
   ]
  },
  {
   "cell_type": "code",
   "execution_count": 2,
   "metadata": {},
   "outputs": [],
   "source": [
    "from bitarray import bitarray\n",
    "from cityhash import CityHash32\n",
    "from spooky import hash32\n",
    "import statistics\n",
    "import jhashcode\n",
    "import mmh3\n",
    "import re\n",
    "import math"
   ]
  },
  {
   "cell_type": "code",
   "execution_count": 3,
   "metadata": {},
   "outputs": [],
   "source": [
    "# hàm đếm số phần tư 0 ở đuôi \n",
    "def return_tail_length(s):\n",
    "    s = str(s) # chuyển về dạng string \n",
    "    rev = s[::-1]\n",
    "    \n",
    "    count = 0\n",
    "    for i in rev:\n",
    "        if i is '0':\n",
    "            count = count + 1\n",
    "        else:\n",
    "            break\n",
    "    return count"
   ]
  },
  {
   "cell_type": "code",
   "execution_count": 4,
   "metadata": {},
   "outputs": [],
   "source": [
    "file_name_shakespeare = \"pg100.txt\""
   ]
  },
  {
   "cell_type": "code",
   "execution_count": 5,
   "metadata": {},
   "outputs": [
    {
     "data": {
      "text/plain": [
       "'pg100.txt'"
      ]
     },
     "execution_count": 5,
     "metadata": {},
     "output_type": "execute_result"
    }
   ],
   "source": [
    "file_name_shakespeare"
   ]
  },
  {
   "cell_type": "code",
   "execution_count": 6,
   "metadata": {},
   "outputs": [],
   "source": [
    "word_distingush = set()"
   ]
  },
  {
   "cell_type": "code",
   "execution_count": 7,
   "metadata": {},
   "outputs": [],
   "source": [
    "hash_function_1_tail_length = []\n",
    "hash_function_2_tail_length = []\n",
    "hash_function_3_tail_length = []\n",
    "hash_function_4_tail_length = []"
   ]
  },
  {
   "cell_type": "code",
   "execution_count": 8,
   "metadata": {},
   "outputs": [],
   "source": [
    "with open(file_name_shakespeare) as f:\n",
    "    for line in f:\n",
    "        line = line.replace('\\n', '')\n",
    "        line_list = line.split(' ')\n",
    "        for word in line_list:\n",
    "            temp = re.match('[a-zA-Z]+', word)\n",
    "            if temp != None:\n",
    "                word = temp.group()\n",
    "                \n",
    "                word_distingush.add(word)\n",
    "\n",
    "                hash_value_1 = abs(CityHash32(word))\n",
    "                hash_value_2 = abs(hash32(word))\n",
    "                hash_value_3 = abs(jhashcode.hashcode(word))\n",
    "                hash_value_4 = abs(mmh3.hash(word))\n",
    "\n",
    "                # Binary representation\n",
    "                binary_1 = format(hash_value_1, '032b')\n",
    "                binary_2 = format(hash_value_2, '032b')\n",
    "                binary_3 = format(hash_value_3, '032b')\n",
    "                binary_4 = format(hash_value_4, '032b')\n",
    "\n",
    "                # calculator tail length\n",
    "                hash_function_1_tail_length.append(return_tail_length(binary_1))\n",
    "                hash_function_2_tail_length.append(return_tail_length(binary_2))\n",
    "                hash_function_3_tail_length.append(return_tail_length(binary_3))\n",
    "                hash_function_4_tail_length.append(return_tail_length(binary_4))\n",
    "            \n",
    "f.close()"
   ]
  },
  {
   "cell_type": "code",
   "execution_count": 9,
   "metadata": {},
   "outputs": [],
   "source": [
    "# Lấy trung bình ước lượng của 4 hàm băm"
   ]
  },
  {
   "cell_type": "code",
   "execution_count": 10,
   "metadata": {},
   "outputs": [],
   "source": [
    "avg_hash = (2**(max(hash_function_1_tail_length)) + 2**(max(hash_function_2_tail_length)) + 2**(max(hash_function_3_tail_length)) + 2**(max(hash_function_4_tail_length))) / float(4)"
   ]
  },
  {
   "cell_type": "code",
   "execution_count": 11,
   "metadata": {},
   "outputs": [
    {
     "name": "stdout",
     "output_type": "stream",
     "text": [
      "Số từ phân biệt theo ước lượng Flajolet-Martin là:  104448.0\n"
     ]
    }
   ],
   "source": [
    "print(\"Số từ phân biệt theo ước lượng Flajolet-Martin là: \", avg_hash)"
   ]
  },
  {
   "cell_type": "code",
   "execution_count": 12,
   "metadata": {},
   "outputs": [
    {
     "name": "stdout",
     "output_type": "stream",
     "text": [
      "Số từ phân biệt chính xác là:  29007\n"
     ]
    }
   ],
   "source": [
    "print(\"Số từ phân biệt chính xác là: \", len(word_distingush))"
   ]
  },
  {
   "cell_type": "markdown",
   "metadata": {},
   "source": [
    "## "
   ]
  },
  {
   "cell_type": "code",
   "execution_count": null,
   "metadata": {},
   "outputs": [],
   "source": []
  },
  {
   "cell_type": "code",
   "execution_count": null,
   "metadata": {},
   "outputs": [],
   "source": []
  }
 ],
 "metadata": {
  "kernelspec": {
   "display_name": "Python 3",
   "language": "python",
   "name": "python3"
  },
  "language_info": {
   "codemirror_mode": {
    "name": "ipython",
    "version": 3
   },
   "file_extension": ".py",
   "mimetype": "text/x-python",
   "name": "python",
   "nbconvert_exporter": "python",
   "pygments_lexer": "ipython3",
   "version": "3.5.2"
  }
 },
 "nbformat": 4,
 "nbformat_minor": 2
}
