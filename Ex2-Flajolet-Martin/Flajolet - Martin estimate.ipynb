{
 "cells": [
  {
   "cell_type": "code",
   "execution_count": 25,
   "metadata": {},
   "outputs": [
    {
     "data": {
      "text/plain": [
       "'\\nThe hash functions used are:\\n1. CityHash\\n2. MurmurHash\\n3. SpookyHash\\n4. Java hashCode() method\\n'"
      ]
     },
     "execution_count": 25,
     "metadata": {},
     "output_type": "execute_result"
    }
   ],
   "source": [
    "\"\"\"\n",
    "The hash functions used are:\n",
    "1. CityHash\n",
    "2. MurmurHash\n",
    "3. SpookyHash\n",
    "4. Java hashCode() method\n",
    "\"\"\""
   ]
  },
  {
   "cell_type": "code",
   "execution_count": 26,
   "metadata": {},
   "outputs": [],
   "source": [
    "from bitarray import bitarray\n",
    "from cityhash import CityHash32\n",
    "from spooky import hash32\n",
    "import statistics\n",
    "import jhashcode\n",
    "import mmh3\n",
    "import re\n",
    "import math"
   ]
  },
  {
   "cell_type": "code",
   "execution_count": 27,
   "metadata": {},
   "outputs": [],
   "source": [
    "# function to count trailing zeros\n",
    "def return_tail_length(s):\n",
    "    s = str(s) # binary representation of string\n",
    "    rev = s[::-1]\n",
    "    \n",
    "    count = 0\n",
    "    for i in rev:\n",
    "        if i is '0':\n",
    "            count = count + 1\n",
    "        else:\n",
    "            break\n",
    "    return count"
   ]
  },
  {
   "cell_type": "code",
   "execution_count": 28,
   "metadata": {},
   "outputs": [],
   "source": [
    "# # list of files to read\n",
    "# file_names = ['quotes_2008-08.txt',\n",
    "#              'quotes_2008-09.txt',\n",
    "#              'quotes_2008-10.txt',\n",
    "#              'quotes_2008-11.txt',\n",
    "#              'quotes_2008-12.txt', \n",
    "#              'quotes_2008-01.txt',\n",
    "#              'quotes_2008-02.txt',\n",
    "#              'quotes_2008-03.txt',\n",
    "#              'quotes_2008-04.txt',]"
   ]
  },
  {
   "cell_type": "code",
   "execution_count": 29,
   "metadata": {},
   "outputs": [],
   "source": [
    "file_name_shakespeare = \"/home/damvantai/Documents/data/pg100.txt\""
   ]
  },
  {
   "cell_type": "code",
   "execution_count": 30,
   "metadata": {},
   "outputs": [
    {
     "data": {
      "text/plain": [
       "'/home/damvantai/Documents/data/pg100.txt'"
      ]
     },
     "execution_count": 30,
     "metadata": {},
     "output_type": "execute_result"
    }
   ],
   "source": [
    "file_name_shakespeare"
   ]
  },
  {
   "cell_type": "code",
   "execution_count": 31,
   "metadata": {},
   "outputs": [],
   "source": [
    "file_name_constitution_words_only=\"/home/damvantai/Dropbox/source/hust/course_2017/bigdata-2017fall/homework/hw11/Flajolet-Martin/FlajoletMartin-master/constitution-words-only.txt\""
   ]
  },
  {
   "cell_type": "code",
   "execution_count": 32,
   "metadata": {},
   "outputs": [],
   "source": [
    "file_name_declaration_words_only = \"/home/damvantai/Dropbox/source/hust/course_2017/bigdata-2017fall/homework/hw11/Flajolet-Martin/FlajoletMartin-master/declaration-words-only.txt\""
   ]
  },
  {
   "cell_type": "code",
   "execution_count": 33,
   "metadata": {},
   "outputs": [],
   "source": [
    "hash_function_1_tail_length = []\n",
    "hash_function_2_tail_length = []\n",
    "hash_function_3_tail_length = []\n",
    "hash_function_4_tail_length = []"
   ]
  },
  {
   "cell_type": "code",
   "execution_count": 34,
   "metadata": {},
   "outputs": [],
   "source": [
    "# with open('/home/damvantai/Documents/data/pg100.txt', 'rt') as f:\n",
    "with open(file_name_shakespeare) as f:\n",
    "# with open(file_name_constitution_words_only) as f:\n",
    "# with open(file_name_declaration_words_only) as f:\n",
    "    for line in f:\n",
    "        line = line.replace('\\n', '')\n",
    "        line_list = line.split(' ')\n",
    "        for word in line_list:\n",
    "            temp = re.match('[a-zA-Z]+', word)\n",
    "            if temp != None:\n",
    "                word = temp.group()\n",
    "                hash_value_1 = abs(CityHash32(word))\n",
    "                hash_value_2 = abs(CityHash32(word))\n",
    "                hash_value_3 = abs(CityHash32(word))\n",
    "                hash_value_4 = abs(CityHash32(word))\n",
    "\n",
    "                # Binary representation\n",
    "                binary_1 = format(hash_value_1, '032b')\n",
    "                binary_2 = format(hash_value_2, '032b')\n",
    "                binary_3 = format(hash_value_3, '032b')\n",
    "                binary_4 = format(hash_value_4, '032b')\n",
    "\n",
    "                # calculator tail length\n",
    "                hash_function_1_tail_length.append(return_tail_length(binary_1))\n",
    "                hash_function_2_tail_length.append(return_tail_length(binary_2))\n",
    "                hash_function_3_tail_length.append(return_tail_length(binary_3))\n",
    "                hash_function_4_tail_length.append(return_tail_length(binary_4))\n",
    "            \n",
    "f.close()\n",
    "\n",
    "with open('hash_function_1_tail_length.txt', 'wt') as f:\n",
    "    f.write(str(hash_function_1_tail_length))\n",
    "f.close()\n",
    "with open('hash_function_2_tail_length.txt', 'wt') as f:\n",
    "    f.write(str(hash_function_2_tail_length))\n",
    "f.close()\n",
    "with open('hash_function_3_tail_length.txt', 'wt') as f:\n",
    "    f.write(str(hash_function_3_tail_length))\n",
    "f.close()\n",
    "with open('hash_function_4_tail_length.txt', 'wt') as f:\n",
    "    f.write(str(hash_function_4_tail_length))\n",
    "f.close()"
   ]
  },
  {
   "cell_type": "code",
   "execution_count": 35,
   "metadata": {},
   "outputs": [],
   "source": [
    "avg_hash12 = (2**(max(hash_function_1_tail_length)) + 2**(max(hash_function_2_tail_length))) / float(2)\n",
    "avg_hash34 = (2**(max(hash_function_3_tail_length)) + 2**(max(hash_function_4_tail_length))) / float(2)"
   ]
  },
  {
   "cell_type": "code",
   "execution_count": 36,
   "metadata": {},
   "outputs": [
    {
     "name": "stdout",
     "output_type": "stream",
     "text": [
      "8192\n"
     ]
    }
   ],
   "source": [
    "print(math.ceil(statistics.median([avg_hash12, avg_hash34])))"
   ]
  },
  {
   "cell_type": "code",
   "execution_count": null,
   "metadata": {},
   "outputs": [],
   "source": []
  }
 ],
 "metadata": {
  "kernelspec": {
   "display_name": "Python 3",
   "language": "python",
   "name": "python3"
  },
  "language_info": {
   "codemirror_mode": {
    "name": "ipython",
    "version": 3
   },
   "file_extension": ".py",
   "mimetype": "text/x-python",
   "name": "python",
   "nbconvert_exporter": "python",
   "pygments_lexer": "ipython3",
   "version": "3.5.2"
  }
 },
 "nbformat": 4,
 "nbformat_minor": 2
}
