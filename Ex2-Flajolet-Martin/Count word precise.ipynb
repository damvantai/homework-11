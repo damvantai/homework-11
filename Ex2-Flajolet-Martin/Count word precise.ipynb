{
 "cells": [
  {
   "cell_type": "code",
   "execution_count": 1,
   "metadata": {},
   "outputs": [],
   "source": [
    "# from sets import set\n",
    "import re"
   ]
  },
  {
   "cell_type": "code",
   "execution_count": 2,
   "metadata": {},
   "outputs": [],
   "source": [
    "word_distingush = set()"
   ]
  },
  {
   "cell_type": "code",
   "execution_count": 3,
   "metadata": {},
   "outputs": [],
   "source": [
    "file_name_declaration_words_only = \"/home/damvantai/Dropbox/source/hust/course_2017/bigdata-2017fall/homework/hw11/Flajolet-Martin/FlajoletMartin-master/declaration-words-only.txt\"\n",
    "file_name_shakespeare = \"/home/damvantai/Documents/data/pg100.txt\"\n",
    "file_name_constitution_words_only=\"/home/damvantai/Dropbox/source/hust/course_2017/bigdata-2017fall/homework/hw11/Flajolet-Martin/FlajoletMartin-master/constitution-words-only.txt\""
   ]
  },
  {
   "cell_type": "code",
   "execution_count": 4,
   "metadata": {},
   "outputs": [],
   "source": [
    "# with open('/home/damvantai/Documents/data/pg100.txt', 'rt') as f:\n",
    "with open(file_name_shakespeare) as f:\n",
    "# with open(file_name_constitution_words_only) as f:\n",
    "# with open(file_name_declaration_words_only) as f:\n",
    "    for line in f:\n",
    "        line = line.replace('\\n', '')\n",
    "        line_list = line.split(' ')\n",
    "        for word in line_list:\n",
    "            temp = re.match('[a-zA-Z]+', word)\n",
    "            if temp != None:\n",
    "                word = temp.group()\n",
    "                word_distingush.add(word)\n",
    "\n",
    "f.close()"
   ]
  },
  {
   "cell_type": "code",
   "execution_count": 5,
   "metadata": {},
   "outputs": [],
   "source": [
    "# print(word_distingush)"
   ]
  },
  {
   "cell_type": "code",
   "execution_count": 6,
   "metadata": {},
   "outputs": [
    {
     "data": {
      "text/plain": [
       "29007"
      ]
     },
     "execution_count": 6,
     "metadata": {},
     "output_type": "execute_result"
    }
   ],
   "source": [
    "len(word_distingush)"
   ]
  },
  {
   "cell_type": "code",
   "execution_count": null,
   "metadata": {},
   "outputs": [],
   "source": []
  },
  {
   "cell_type": "code",
   "execution_count": null,
   "metadata": {},
   "outputs": [],
   "source": []
  }
 ],
 "metadata": {
  "kernelspec": {
   "display_name": "Python 3",
   "language": "python",
   "name": "python3"
  },
  "language_info": {
   "codemirror_mode": {
    "name": "ipython",
    "version": 3
   },
   "file_extension": ".py",
   "mimetype": "text/x-python",
   "name": "python",
   "nbconvert_exporter": "python",
   "pygments_lexer": "ipython3",
   "version": "3.5.2"
  }
 },
 "nbformat": 4,
 "nbformat_minor": 2
}
